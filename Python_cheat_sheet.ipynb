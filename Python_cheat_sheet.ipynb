{
 "cells": [
  {
   "cell_type": "code",
   "execution_count": 2,
   "metadata": {},
   "outputs": [],
   "source": [
    "# Making numerical skills\n",
    "\n",
    "squares = []\n",
    "for x in range(1,11):\n",
    "    squares.append(x**2)"
   ]
  },
  {
   "cell_type": "code",
   "execution_count": 5,
   "metadata": {},
   "outputs": [],
   "source": [
    "# list comprehension\n",
    "squares= [x**2 for x in range(1,11)]"
   ]
  },
  {
   "cell_type": "markdown",
   "metadata": {},
   "source": [
    "### DICTIONARIES"
   ]
  },
  {
   "cell_type": "code",
   "execution_count": 6,
   "metadata": {},
   "outputs": [
    {
     "name": "stdout",
     "output_type": "stream",
     "text": [
      "ericloves17\n",
      "everloves4\n"
     ]
    }
   ],
   "source": [
    "# looping through all key value pairs\n",
    "\n",
    "fav_numbers= {'eric': 17, 'ever': 4}\n",
    "for name, number in fav_numbers.items():\n",
    "    print(name + 'loves' + str(number))"
   ]
  },
  {
   "cell_type": "code",
   "execution_count": 8,
   "metadata": {},
   "outputs": [
    {
     "name": "stdout",
     "output_type": "stream",
     "text": [
      "ericlove a number\n",
      "everlove a number\n"
     ]
    }
   ],
   "source": [
    "# looping through all keys\n",
    "\n",
    "fav_numbers= {'eric': 17, 'ever': 4}\n",
    "for name in fav_numbers.keys():\n",
    "    print(name + 'love a number')"
   ]
  },
  {
   "cell_type": "code",
   "execution_count": 13,
   "metadata": {},
   "outputs": [
    {
     "name": "stdout",
     "output_type": "stream",
     "text": [
      "17is a favorite\n",
      "4is a favorite\n"
     ]
    }
   ],
   "source": [
    "# looping through all the values\n",
    "\n",
    "fav_numbers= {'eric': 17, 'ever': 4}\n",
    "for number in fav_numbers.values():\n",
    "    print(str(number) + 'is a favorite')"
   ]
  },
  {
   "cell_type": "code",
   "execution_count": 14,
   "metadata": {},
   "outputs": [
    {
     "name": "stdout",
     "output_type": "stream",
     "text": [
      "1\n",
      "2\n",
      "3\n",
      "4\n",
      "5\n"
     ]
    }
   ],
   "source": [
    "# While loop\n",
    "\n",
    "current_value = 1\n",
    "while current_value <=5:\n",
    "    print(current_value)\n",
    "    current_value +=1\n"
   ]
  },
  {
   "cell_type": "code",
   "execution_count": 16,
   "metadata": {},
   "outputs": [],
   "source": [
    "# Functions - simple function\n",
    "\n",
    "def greet_user():\n",
    "    \"\"\"Display a simple greeting\"\"\"\n",
    "    print(\"Hello\")\n",
    "    \n",
    "    greet_user()\n",
    "    \n",
    "# Passing an argument\n",
    "\n",
    "def greet_user(username):\n",
    "    \"\"\"Display a simple greeting\"\"\"\n",
    "    print(\"Hello\" + username + \"!\")\n",
    "    \n",
    "greet_user('jesse')"
   ]
  },
  {
   "cell_type": "code",
   "execution_count": 20,
   "metadata": {},
   "outputs": [
    {
     "name": "stdout",
     "output_type": "stream",
     "text": [
      " Have a bacon pizza!\n",
      " Have a peperoni pizza!\n"
     ]
    }
   ],
   "source": [
    "# Default Values for Parameters\n",
    "\n",
    "def make_pizza (topping='bacon'):\n",
    "    \"\"\"Make a single-topping pizza\"\"\"\n",
    "    print(\" Have a \" + topping + \" pizza!\")\n",
    "\n",
    "make_pizza()\n",
    "make_pizza('peperoni')\n"
   ]
  },
  {
   "cell_type": "code",
   "execution_count": 21,
   "metadata": {},
   "outputs": [
    {
     "name": "stdout",
     "output_type": "stream",
     "text": [
      "7\n"
     ]
    }
   ],
   "source": [
    "# Returning Value\n",
    "\n",
    "def add_numbers(x, y):\n",
    "    \"\"\"Add two numbers and return the sum\"\"\"\n",
    "    return x + y\n",
    "\n",
    "sum=add_numbers(3,4)\n",
    "print(sum)"
   ]
  },
  {
   "cell_type": "code",
   "execution_count": 29,
   "metadata": {},
   "outputs": [
    {
     "name": "stdout",
     "output_type": "stream",
     "text": [
      "Peso is a great dog!\n",
      "Peso is sitting.\n"
     ]
    }
   ],
   "source": [
    "# Classes: defines the behaviour of an object and the kind of information an object can store.\n",
    "# The information in a class is stored in attributes and functions that belong to a class are called methods.\n",
    "# Creating a Dog Class\n",
    "\n",
    "class Dog():\n",
    "    \"\"\" Represent a dog.\"\"\"\n",
    "    \n",
    "    def __init__(self, name):\n",
    "        \"\"\" Initialize dog object\"\"\"\n",
    "        self.name=name\n",
    "        \n",
    "    def sit(self):\n",
    "        \"\"\"Simulate sitting.\"\"\"\n",
    "        print(self.name + \" is sitting.\")\n",
    "        \n",
    "my_dog = Dog('Peso')\n",
    "\n",
    "print(my_dog.name + \" is a great dog!\")\n",
    "\n",
    "my_dog.sit()"
   ]
  },
  {
   "cell_type": "code",
   "execution_count": 30,
   "metadata": {},
   "outputs": [
    {
     "name": "stdout",
     "output_type": "stream",
     "text": [
      "Willie is a search dog!\n",
      "Willie is sitting.\n",
      "Willie is searching.\n"
     ]
    }
   ],
   "source": [
    "class SARDog(Dog):\n",
    "    \"\"\" Represent a search dog.\"\"\"\n",
    "    \n",
    "    def __init__(self, name):\n",
    "        \"\"\" Initialize sardog\"\"\"\n",
    "        super(). __init__(name)\n",
    "        \n",
    "    def search(self):\n",
    "        \"\"\"Simulate searching.\"\"\"\n",
    "        print(self.name + \" is searching.\")\n",
    "        \n",
    "my_dog = SARDog('Willie')\n",
    "\n",
    "print(my_dog.name + \" is a search dog!\")\n",
    "\n",
    "my_dog.sit()\n",
    "my_dog.search()"
   ]
  },
  {
   "cell_type": "code",
   "execution_count": 32,
   "metadata": {},
   "outputs": [
    {
     "name": "stdout",
     "output_type": "stream",
     "text": [
      "val\n",
      "bob\n",
      "mia\n",
      "ron\n"
     ]
    }
   ],
   "source": [
    "# Looping through list\n",
    "users = ['val','bob','mia','ron']\n",
    "for user in users:\n",
    "    print(user)"
   ]
  },
  {
   "cell_type": "code",
   "execution_count": 37,
   "metadata": {},
   "outputs": [
    {
     "ename": "IndentationError",
     "evalue": "expected an indented block (<ipython-input-37-e71398bdeef5>, line 4)",
     "output_type": "error",
     "traceback": [
      "\u001b[0;36m  File \u001b[0;32m\"<ipython-input-37-e71398bdeef5>\"\u001b[0;36m, line \u001b[0;32m4\u001b[0m\n\u001b[0;31m    print(number)\u001b[0m\n\u001b[0m    ^\u001b[0m\n\u001b[0;31mIndentationError\u001b[0m\u001b[0;31m:\u001b[0m expected an indented block\n"
     ]
    }
   ],
   "source": [
    "# range function\n",
    "\n",
    "for number in range(1,20):\n",
    "print(number)\n",
    "\n"
   ]
  },
  {
   "cell_type": "code",
   "execution_count": 40,
   "metadata": {},
   "outputs": [],
   "source": [
    "ages= [ 1,2,2,4,6,7]"
   ]
  },
  {
   "cell_type": "code",
   "execution_count": 41,
   "metadata": {},
   "outputs": [],
   "source": [
    "youngest=min(ages)"
   ]
  },
  {
   "cell_type": "code",
   "execution_count": 42,
   "metadata": {},
   "outputs": [],
   "source": [
    "# List comprehensions\n",
    "\n",
    "squares=[]\n",
    "for x in range(1,11):\n",
    "    square = x**2\n",
    "    squares.append(square)"
   ]
  },
  {
   "cell_type": "code",
   "execution_count": 43,
   "metadata": {},
   "outputs": [],
   "source": [
    "squares = [x**2 for x in range(1,11)]"
   ]
  },
  {
   "cell_type": "code",
   "execution_count": 44,
   "metadata": {},
   "outputs": [],
   "source": [
    "names= ['kai','abe','ada','gus','zoe']\n",
    "upper_names= []\n",
    "for name in names:\n",
    "    upper_names.append(name.upper())"
   ]
  },
  {
   "cell_type": "code",
   "execution_count": 45,
   "metadata": {},
   "outputs": [],
   "source": [
    "upper_names= [name.upper() for name in names]"
   ]
  },
  {
   "cell_type": "code",
   "execution_count": 48,
   "metadata": {},
   "outputs": [
    {
     "name": "stdout",
     "output_type": "stream",
     "text": [
      "jen: python\n",
      "sarah: c\n",
      "edward: ruby\n"
     ]
    }
   ],
   "source": [
    "# Store people's favorite languages\n",
    "fav_languages= {\n",
    "    'jen' : 'python',\n",
    "    'sarah': 'c',\n",
    "    'edward' : 'ruby'\n",
    "}\n",
    "\n",
    "for name, language in fav_languages.items():\n",
    "    print(name + \": \" + language)"
   ]
  },
  {
   "cell_type": "code",
   "execution_count": 49,
   "metadata": {},
   "outputs": [
    {
     "name": "stdout",
     "output_type": "stream",
     "text": [
      "edward: ruby\n",
      "jen: ruby\n",
      "sarah: ruby\n"
     ]
    }
   ],
   "source": [
    "# looping through all the keys in order\n",
    "# Show each person's favourite language in  order by the person's name.\n",
    "\n",
    "for name in sorted ( fav_languages.keys()):\n",
    "    print(name + \": \" + language)"
   ]
  },
  {
   "cell_type": "markdown",
   "metadata": {},
   "source": [
    "### NESTING - LIST OF DICTIONARIES"
   ]
  },
  {
   "cell_type": "code",
   "execution_count": 53,
   "metadata": {},
   "outputs": [
    {
     "name": "stdout",
     "output_type": "stream",
     "text": [
      "last: fermi\n",
      "\n",
      "\n",
      "first: enrico\n",
      "\n",
      "\n",
      "username: efermi\n",
      "\n",
      "\n",
      "last: cruie\n",
      "\n",
      "\n",
      "first: marie\n",
      "\n",
      "\n",
      "username: mcruie\n",
      "\n",
      "\n"
     ]
    }
   ],
   "source": [
    "# Start with an empty list\n",
    "users=[]\n",
    "new_user = { 'last' : 'fermi',\n",
    "           'first' : 'enrico',\n",
    "           'username' : 'efermi'}\n",
    "\n",
    "users.append(new_user)\n",
    "\n",
    "new_user = { 'last' : 'cruie',\n",
    "           'first' : 'marie',\n",
    "           'username' : 'mcruie'}\n",
    "\n",
    "users.append(new_user)\n",
    "\n",
    "# Show all information about each user\n",
    "\n",
    "for user_dict in users:\n",
    "    for k,v in user_dict.items():\n",
    "        print(k + \": \" + v)\n",
    "        print(\"\\n\")"
   ]
  },
  {
   "cell_type": "code",
   "execution_count": 59,
   "metadata": {},
   "outputs": [
    {
     "name": "stdout",
     "output_type": "stream",
     "text": [
      "last: fermi\n",
      "\n",
      "\n",
      "first: enrico\n",
      "\n",
      "\n",
      "username: efermi\n",
      "\n",
      "\n",
      "last: cruie\n",
      "\n",
      "\n",
      "first: marie\n",
      "\n",
      "\n",
      "username: mcruie\n",
      "\n",
      "\n"
     ]
    }
   ],
   "source": [
    "users=[{ 'last' : 'fermi',\n",
    "           'first' : 'enrico',\n",
    "           'username' : 'efermi'} ,\n",
    "{'last' : 'cruie',\n",
    "           'first' : 'marie',\n",
    "           'username' : 'mcruie'}]\n",
    "\n",
    "# show all information about each user\n",
    "\n",
    "for user_dict in users:\n",
    "    for k, v in user_dict.items():\n",
    "          print(k + \": \" + v)\n",
    "          print(\"\\n\")"
   ]
  },
  {
   "cell_type": "code",
   "execution_count": 62,
   "metadata": {},
   "outputs": [
    {
     "name": "stdout",
     "output_type": "stream",
     "text": [
      "jen : \n",
      "- python\n",
      "- ruby\n",
      "sarah : \n",
      "- c\n",
      "edward : \n",
      "- ruby\n",
      "- go\n"
     ]
    }
   ],
   "source": [
    "### LISTS IN A DICTIONARY\n",
    "\n",
    "# Storing a list inside a distionary allows you to associate more than one value with each key.\n",
    "\n",
    "fav_languages = { 'jen': ['python','ruby'],\n",
    "                   'sarah' : ['c'],\n",
    "                   'edward' : ['ruby' , 'go'],\n",
    "                   \n",
    "                 \n",
    "        }\n",
    "\n",
    "# show all responses for each person\n",
    "\n",
    "for name, langs in fav_languages.items():\n",
    "    print(name + \" : \")\n",
    "    \n",
    "    for lang in langs:\n",
    "        print(\"- \" + lang)"
   ]
  },
  {
   "cell_type": "markdown",
   "metadata": {},
   "source": [
    "### NESTING"
   ]
  },
  {
   "cell_type": "code",
   "execution_count": 67,
   "metadata": {},
   "outputs": [
    {
     "name": "stdout",
     "output_type": "stream",
     "text": [
      "\n",
      "Username: einstain\n",
      "\n",
      "Username: mcruie\n"
     ]
    }
   ],
   "source": [
    "###  DICTIONARY OF DICTIONARIES\n",
    "\n",
    "# You can store a dictionary inside another dictionary. In this case each value associated with a key is itself a dictionary. \n",
    "\n",
    "users = { 'einstain' : {'first' : 'albert',\n",
    "                       'last' : 'eistein',\n",
    "                       'location': 'princeton'},\n",
    "        'mcruie' : {'first' : 'marie',\n",
    "                       'last' : 'cruie',\n",
    "                       'location': 'paris'}}\n",
    "\n",
    "for username, user_dict in users.items():\n",
    "    print(\"\\nUsername: \" + username)\n",
    "    full_name = user_dict['first'] + \" \" \n",
    "    full_name += user_dict['last']\n",
    "    location =user_dict['location']\n",
    "    \n",
    "\n",
    "                                                            "
   ]
  },
  {
   "cell_type": "code",
   "execution_count": 70,
   "metadata": {},
   "outputs": [
    {
     "name": "stdout",
     "output_type": "stream",
     "text": [
      "jen :\n",
      "-python\n",
      "-ruby\n",
      "sarah :\n",
      "-c\n",
      "edward :\n",
      "-python\n",
      "-go\n",
      "phil :\n",
      "-python\n",
      "-ruby\n"
     ]
    }
   ],
   "source": [
    "from collections import OrderedDict\n",
    "\n",
    "# USING AN ORDEREDICT - is used to preserve the order in which key and values added.\n",
    "\n",
    "fav_languages= OrderedDict()\n",
    "\n",
    "fav_languages['jen']=['python','ruby']\n",
    "fav_languages['sarah']=['c']\n",
    "fav_languages['edward']=['python','go']\n",
    "fav_languages['phil']=['python','ruby']\n",
    "\n",
    "# Display the results in the same order they were entered.\n",
    "\n",
    "for name,langs in fav_languages.items():\n",
    "    print(name + \" :\")\n",
    "    for lang in langs:\n",
    "        print(\"-\" + lang)\n"
   ]
  },
  {
   "cell_type": "code",
   "execution_count": 71,
   "metadata": {},
   "outputs": [
    {
     "name": "stdout",
     "output_type": "stream",
     "text": [
      "['dog', 'cat', 'dog', 'fish', 'cat', 'rabbit', 'cat']\n"
     ]
    }
   ],
   "source": [
    "# Removing all instances of a value from a list\n",
    "\n",
    "pets= ['dog','cat','dog','fish','cat','rabbit','cat']\n",
    "print(pets)"
   ]
  },
  {
   "cell_type": "code",
   "execution_count": 73,
   "metadata": {},
   "outputs": [
    {
     "name": "stdout",
     "output_type": "stream",
     "text": [
      "['dog', 'dog', 'fish', 'rabbit']\n"
     ]
    }
   ],
   "source": [
    "while 'cat' in pets:\n",
    "    pets.remove('cat')\n",
    "    \n",
    "print(pets)"
   ]
  },
  {
   "cell_type": "markdown",
   "metadata": {},
   "source": [
    "### FUNCTIONS"
   ]
  },
  {
   "cell_type": "code",
   "execution_count": 74,
   "metadata": {},
   "outputs": [
    {
     "name": "stdout",
     "output_type": "stream",
     "text": [
      "Jimi Hendrix\n"
     ]
    }
   ],
   "source": [
    "# Returning a Single Value\n",
    "\n",
    "def get_full_name(first,last):\n",
    "    \"\"\" Return a neatly formatted full name\"\"\"\n",
    "    full_name= first + ' ' + last\n",
    "    return full_name.title()\n",
    "\n",
    "musician = get_full_name('jimi','hendrix')\n",
    "print(musician)\n",
    "    "
   ]
  },
  {
   "cell_type": "code",
   "execution_count": 76,
   "metadata": {},
   "outputs": [
    {
     "name": "stdout",
     "output_type": "stream",
     "text": [
      "{'first': 'jimi', 'last': 'hendrix'}\n"
     ]
    }
   ],
   "source": [
    "# Returning a Dictionary\n",
    "\n",
    "def build_person(first, last):\n",
    "    \"\"\"Return a dictionary of information about a person\"\"\"\n",
    "    \n",
    "    person= {'first' : first, 'last' : last}\n",
    "    \n",
    "    return person\n",
    "\n",
    "musician =build_person('jimi','hendrix')\n",
    "print(musician)"
   ]
  },
  {
   "cell_type": "code",
   "execution_count": 78,
   "metadata": {},
   "outputs": [
    {
     "ename": "TypeError",
     "evalue": "build_person() takes 2 positional arguments but 3 were given",
     "output_type": "error",
     "traceback": [
      "\u001b[0;31m---------------------------------------------------------------------------\u001b[0m",
      "\u001b[0;31mTypeError\u001b[0m                                 Traceback (most recent call last)",
      "\u001b[0;32m<ipython-input-78-9d52d7a1c5fd>\u001b[0m in \u001b[0;36m<module>\u001b[0;34m\u001b[0m\n\u001b[1;32m     12\u001b[0m     \u001b[0;32mreturn\u001b[0m \u001b[0mperson\u001b[0m\u001b[0;34m\u001b[0m\u001b[0;34m\u001b[0m\u001b[0m\n\u001b[1;32m     13\u001b[0m \u001b[0;34m\u001b[0m\u001b[0m\n\u001b[0;32m---> 14\u001b[0;31m \u001b[0mmusician\u001b[0m \u001b[0;34m=\u001b[0m\u001b[0mbuild_person\u001b[0m\u001b[0;34m(\u001b[0m\u001b[0;34m'jimi'\u001b[0m\u001b[0;34m,\u001b[0m\u001b[0;34m'hendrix'\u001b[0m\u001b[0;34m,\u001b[0m \u001b[0;34m'27'\u001b[0m\u001b[0;34m)\u001b[0m\u001b[0;34m\u001b[0m\u001b[0;34m\u001b[0m\u001b[0m\n\u001b[0m\u001b[1;32m     15\u001b[0m \u001b[0;34m\u001b[0m\u001b[0m\n\u001b[1;32m     16\u001b[0m \u001b[0mprint\u001b[0m\u001b[0;34m(\u001b[0m\u001b[0mmusician\u001b[0m\u001b[0;34m)\u001b[0m\u001b[0;34m\u001b[0m\u001b[0;34m\u001b[0m\u001b[0m\n",
      "\u001b[0;31mTypeError\u001b[0m: build_person() takes 2 positional arguments but 3 were given"
     ]
    }
   ],
   "source": [
    "# Returning a Dictionary with optional values\n",
    "\n",
    "def build_person(first, last):\n",
    "    \"\"\"Return a dictionary of information about a person\"\"\"\n",
    "    \n",
    "    person= {'first' : first, 'last' : last}\n",
    "    \n",
    "    if age:\n",
    "        \n",
    "        person['age']= age\n",
    "        \n",
    "    return person\n",
    "\n",
    "musician =build_person('jimi','hendrix', '27') # not working with 3 options\n",
    "\n",
    "print(musician)"
   ]
  },
  {
   "cell_type": "code",
   "execution_count": 83,
   "metadata": {},
   "outputs": [
    {
     "ename": "SyntaxError",
     "evalue": "invalid syntax (<ipython-input-83-d5ae7e5b389a>, line 7)",
     "output_type": "error",
     "traceback": [
      "\u001b[0;36m  File \u001b[0;32m\"<ipython-input-83-d5ae7e5b389a>\"\u001b[0;36m, line \u001b[0;32m7\u001b[0m\n\u001b[0;31m    While unprinted:\u001b[0m\n\u001b[0m          ^\u001b[0m\n\u001b[0;31mSyntaxError\u001b[0m\u001b[0;31m:\u001b[0m invalid syntax\n"
     ]
    }
   ],
   "source": [
    "# Allowing a function to modify list\n",
    "\n",
    "def print_models(unprinted,printed):\n",
    "    \n",
    "    \"\"\"3d print a set of models\"\"\"\n",
    "    \n",
    "    While unprinted: \n",
    "        current_model= unprinted.pop()\n",
    "        print(\"Printing\" + current_model)\n",
    "        printed.append(current_model)\n",
    "\n",
    "# Store some unprinted designs and print each of them\n",
    "\n",
    "unprinted=['phone case','pendant', 'ring']\n",
    "printed=[]\n",
    "print_models(unprinted,printed)"
   ]
  },
  {
   "cell_type": "code",
   "execution_count": 93,
   "metadata": {},
   "outputs": [
    {
     "name": "stdout",
     "output_type": "stream",
     "text": [
      "{'first': 'albert', 'last': 'einstein', 'location': 'princeton'}\n",
      "{'first': 'marie', 'last': 'curie', 'location': 'paris'}\n"
     ]
    }
   ],
   "source": [
    "def build_profile( first, last, **user_info):\n",
    "    \n",
    "   profile= {'first' : first, 'last' : last}\n",
    "        \n",
    "   for key, value in user_info.items():\n",
    "        profile[key]=value\n",
    "        return profile\n",
    "    \n",
    "user_0 = build_profile('albert','einstein', location='princeton')\n",
    "print(user_0)\n",
    "\n",
    "user_1= build_profile('marie','curie',location='paris',field='chemistry')\n",
    "print(user_1)"
   ]
  },
  {
   "cell_type": "code",
   "execution_count": 96,
   "metadata": {},
   "outputs": [
    {
     "name": "stdout",
     "output_type": "stream",
     "text": [
      "Cant find numbers.json.\n"
     ]
    }
   ],
   "source": [
    "import json\n",
    "\n",
    "filename= 'numbers.json'\n",
    "\n",
    "try: \n",
    "    with open(filename) as f_obj:\n",
    "        numbers=json.load(f_obj)\n",
    "        \n",
    "except FileNotFoundError:\n",
    "    msg= \"Cant find {0}.\".format(filename)\n",
    "    print(msg)\n",
    "    \n",
    "else:\n",
    "    print(numbers)\n"
   ]
  },
  {
   "cell_type": "code",
   "execution_count": 3,
   "metadata": {},
   "outputs": [
    {
     "name": "stdout",
     "output_type": "stream",
     "text": [
      "Requirement already satisfied: pygal in ./opt/anaconda3/lib/python3.8/site-packages (2.4.0)\n",
      "Note: you may need to restart the kernel to use updated packages.\n"
     ]
    }
   ],
   "source": [
    "pip install pygal"
   ]
  },
  {
   "cell_type": "code",
   "execution_count": 2,
   "metadata": {},
   "outputs": [],
   "source": [
    "import pygal\n",
    "\n",
    "x_values= [0,1,2,3,4,5]\n",
    "squares= [0,1,4,9,16,25]\n",
    "chart=pygal.Line()\n",
    "chart.force_uri_protocol='http'\n",
    "chart.add('x^2', squares)\n",
    "chart.render_to_file('squares.svg')"
   ]
  },
  {
   "cell_type": "code",
   "execution_count": 3,
   "metadata": {},
   "outputs": [
    {
     "name": "stdout",
     "output_type": "stream",
     "text": [
      "Collecting pygal_maps_world\n",
      "  Downloading pygal_maps_world-1.0.2.tar.gz (270 kB)\n",
      "\u001b[K     |████████████████████████████████| 270 kB 3.0 MB/s eta 0:00:01\n",
      "\u001b[?25hRequirement already satisfied: pygal>=1.9.9 in ./opt/anaconda3/lib/python3.8/site-packages (from pygal_maps_world) (2.4.0)\n",
      "Building wheels for collected packages: pygal-maps-world\n",
      "  Building wheel for pygal-maps-world (setup.py) ... \u001b[?25ldone\n",
      "\u001b[?25h  Created wheel for pygal-maps-world: filename=pygal_maps_world-1.0.2-py3-none-any.whl size=278562 sha256=7ab190a517c82e2fc1c9e5b1b55ef4d0f1ecd8a85f4c478ec5c285838d51c393\n",
      "  Stored in directory: /Users/oyakesgin/Library/Caches/pip/wheels/da/f5/1b/a241a2b0e32fc89b08d1f42d37e63e7ccc2c820bb14fffd031\n",
      "Successfully built pygal-maps-world\n",
      "Installing collected packages: pygal-maps-world\n",
      "Successfully installed pygal-maps-world-1.0.2\n",
      "Note: you may need to restart the kernel to use updated packages.\n"
     ]
    }
   ],
   "source": [
    "pip install pygal_maps_world"
   ]
  },
  {
   "cell_type": "code",
   "execution_count": 1,
   "metadata": {},
   "outputs": [],
   "source": [
    "from pygal.maps.world import World\n",
    "\n",
    "wm=World()\n",
    "wm.force_uri_protocol='http'\n",
    "wm.title ='North America'\n",
    "wm.add('North America',['ca','mx','us'])\n",
    "wm.render_to_file('north_america.svg')"
   ]
  },
  {
   "cell_type": "code",
   "execution_count": 3,
   "metadata": {},
   "outputs": [
    {
     "name": "stdout",
     "output_type": "stream",
     "text": [
      "ad Andorra\n",
      "ae United Arab Emirates\n",
      "af Afghanistan\n",
      "al Albania\n",
      "am Armenia\n",
      "ao Angola\n",
      "aq Antarctica\n",
      "ar Argentina\n",
      "at Austria\n",
      "au Australia\n",
      "az Azerbaijan\n",
      "ba Bosnia and Herzegovina\n",
      "bd Bangladesh\n",
      "be Belgium\n",
      "bf Burkina Faso\n",
      "bg Bulgaria\n",
      "bh Bahrain\n",
      "bi Burundi\n",
      "bj Benin\n",
      "bn Brunei Darussalam\n",
      "bo Bolivia, Plurinational State of\n",
      "br Brazil\n",
      "bt Bhutan\n",
      "bw Botswana\n",
      "by Belarus\n",
      "bz Belize\n",
      "ca Canada\n",
      "cd Congo, the Democratic Republic of the\n",
      "cf Central African Republic\n",
      "cg Congo\n",
      "ch Switzerland\n",
      "ci Cote d'Ivoire\n",
      "cl Chile\n",
      "cm Cameroon\n",
      "cn China\n",
      "co Colombia\n",
      "cr Costa Rica\n",
      "cu Cuba\n",
      "cv Cape Verde\n",
      "cy Cyprus\n",
      "cz Czech Republic\n",
      "de Germany\n",
      "dj Djibouti\n",
      "dk Denmark\n",
      "do Dominican Republic\n",
      "dz Algeria\n",
      "ec Ecuador\n",
      "ee Estonia\n",
      "eg Egypt\n",
      "eh Western Sahara\n",
      "er Eritrea\n",
      "es Spain\n",
      "et Ethiopia\n",
      "fi Finland\n",
      "fr France\n",
      "ga Gabon\n",
      "gb United Kingdom\n",
      "ge Georgia\n",
      "gf French Guiana\n",
      "gh Ghana\n",
      "gl Greenland\n",
      "gm Gambia\n",
      "gn Guinea\n",
      "gq Equatorial Guinea\n",
      "gr Greece\n",
      "gt Guatemala\n",
      "gu Guam\n",
      "gw Guinea-Bissau\n",
      "gy Guyana\n",
      "hk Hong Kong\n",
      "hn Honduras\n",
      "hr Croatia\n",
      "ht Haiti\n",
      "hu Hungary\n",
      "id Indonesia\n",
      "ie Ireland\n",
      "il Israel\n",
      "in India\n",
      "iq Iraq\n",
      "ir Iran, Islamic Republic of\n",
      "is Iceland\n",
      "it Italy\n",
      "jm Jamaica\n",
      "jo Jordan\n",
      "jp Japan\n",
      "ke Kenya\n",
      "kg Kyrgyzstan\n",
      "kh Cambodia\n",
      "kp Korea, Democratic People's Republic of\n",
      "kr Korea, Republic of\n",
      "kw Kuwait\n",
      "kz Kazakhstan\n",
      "la Lao People's Democratic Republic\n",
      "lb Lebanon\n",
      "li Liechtenstein\n",
      "lk Sri Lanka\n",
      "lr Liberia\n",
      "ls Lesotho\n",
      "lt Lithuania\n",
      "lu Luxembourg\n",
      "lv Latvia\n",
      "ly Libyan Arab Jamahiriya\n",
      "ma Morocco\n",
      "mc Monaco\n",
      "md Moldova, Republic of\n",
      "me Montenegro\n",
      "mg Madagascar\n",
      "mk Macedonia, the former Yugoslav Republic of\n",
      "ml Mali\n",
      "mm Myanmar\n",
      "mn Mongolia\n",
      "mo Macao\n",
      "mr Mauritania\n",
      "mt Malta\n",
      "mu Mauritius\n",
      "mv Maldives\n",
      "mw Malawi\n",
      "mx Mexico\n",
      "my Malaysia\n",
      "mz Mozambique\n",
      "na Namibia\n",
      "ne Niger\n",
      "ng Nigeria\n",
      "ni Nicaragua\n",
      "nl Netherlands\n",
      "no Norway\n",
      "np Nepal\n",
      "nz New Zealand\n",
      "om Oman\n",
      "pa Panama\n",
      "pe Peru\n",
      "pg Papua New Guinea\n",
      "ph Philippines\n",
      "pk Pakistan\n",
      "pl Poland\n",
      "pr Puerto Rico\n",
      "ps Palestine, State of\n",
      "pt Portugal\n",
      "py Paraguay\n",
      "re Reunion\n",
      "ro Romania\n",
      "rs Serbia\n",
      "ru Russian Federation\n",
      "rw Rwanda\n",
      "sa Saudi Arabia\n",
      "sc Seychelles\n",
      "sd Sudan\n",
      "se Sweden\n",
      "sg Singapore\n",
      "sh Saint Helena, Ascension and Tristan da Cunha\n",
      "si Slovenia\n",
      "sk Slovakia\n",
      "sl Sierra Leone\n",
      "sm San Marino\n",
      "sn Senegal\n",
      "so Somalia\n",
      "sr Suriname\n",
      "st Sao Tome and Principe\n",
      "sv El Salvador\n",
      "sy Syrian Arab Republic\n",
      "sz Swaziland\n",
      "td Chad\n",
      "tg Togo\n",
      "th Thailand\n",
      "tj Tajikistan\n",
      "tl Timor-Leste\n",
      "tm Turkmenistan\n",
      "tn Tunisia\n",
      "tr Turkey\n",
      "tw Taiwan, Province of China\n",
      "tz Tanzania, United Republic of\n",
      "ua Ukraine\n",
      "ug Uganda\n",
      "us United States\n",
      "uy Uruguay\n",
      "uz Uzbekistan\n",
      "va Holy See (Vatican City State)\n",
      "ve Venezuela, Bolivarian Republic of\n",
      "vn Viet Nam\n",
      "ye Yemen\n",
      "yt Mayotte\n",
      "za South Africa\n",
      "zm Zambia\n",
      "zw Zimbabwe\n"
     ]
    }
   ],
   "source": [
    "from pygal.maps.world import COUNTRIES\n",
    "for code in sorted(COUNTRIES.keys()):\n",
    "    print(code,COUNTRIES[code])"
   ]
  },
  {
   "cell_type": "code",
   "execution_count": 5,
   "metadata": {},
   "outputs": [],
   "source": [
    "from pygal.maps.world import World\n",
    "populations={'ca' : 34126000,\n",
    "            'us' : 309349000,\n",
    "             'mx': 113423000,\n",
    "            }\n",
    "\n",
    "wm=World()\n",
    "wm.force_uri_protocol='http'\n",
    "wm.title = 'Population of North America'\n",
    "wm.add('North America', populations)\n",
    "\n",
    "wm.render_to_file('na_populations.svg')"
   ]
  },
  {
   "cell_type": "code",
   "execution_count": null,
   "metadata": {},
   "outputs": [],
   "source": []
  }
 ],
 "metadata": {
  "kernelspec": {
   "display_name": "Python 3",
   "language": "python",
   "name": "python3"
  },
  "language_info": {
   "codemirror_mode": {
    "name": "ipython",
    "version": 3
   },
   "file_extension": ".py",
   "mimetype": "text/x-python",
   "name": "python",
   "nbconvert_exporter": "python",
   "pygments_lexer": "ipython3",
   "version": "3.8.5"
  }
 },
 "nbformat": 4,
 "nbformat_minor": 4
}
